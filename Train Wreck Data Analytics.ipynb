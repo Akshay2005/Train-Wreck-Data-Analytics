{
    "metadata": {
        "language_info": {
            "codemirror_mode": {
                "version": 2, 
                "name": "ipython"
            }, 
            "file_extension": ".py", 
            "nbconvert_exporter": "python", 
            "mimetype": "text/x-python", 
            "pygments_lexer": "ipython2", 
            "name": "python", 
            "version": "2.7.11"
        }, 
        "kernelspec": {
            "display_name": "Python 2 with Spark 2.0", 
            "language": "python", 
            "name": "python2-spark20"
        }
    }, 
    "nbformat": 4, 
    "cells": [
        {
            "metadata": {
                "collapsed": false
            }, 
            "outputs": [], 
            "cell_type": "code", 
            "execution_count": 16, 
            "source": "# The code was removed by DSX for sharing."
        }, 
        {
            "metadata": {
                "collapsed": false
            }, 
            "outputs": [
                {
                    "output_type": "stream", 
                    "text": "Record size: 53085\n", 
                    "name": "stdout"
                }
            ], 
            "cell_type": "code", 
            "execution_count": 17, 
            "source": "print \"Record size: \" + str(dataFrame.count())"
        }, 
        {
            "metadata": {
                "collapsed": false
            }, 
            "outputs": [
                {
                    "output_type": "stream", 
                    "text": "Data Schema:\nroot\n |-- Date: string (nullable = true)\n |-- City, State: string (nullable = true)\n |-- Street: string (nullable = true)\n |-- Railroad: string (nullable = true)\n |-- Description: string (nullable = true)\n\n", 
                    "name": "stdout"
                }
            ], 
            "cell_type": "code", 
            "execution_count": 18, 
            "source": "print \"Data Schema:\"\ndataFrame.printSchema()"
        }, 
        {
            "metadata": {
                "collapsed": false
            }, 
            "outputs": [
                {
                    "output_type": "stream", 
                    "text": "Data:\n+----------------+--------------------+------------+--------------------+--------------------+\n|            Date|         City, State|      Street|            Railroad|         Description|\n+----------------+--------------------+------------+--------------------+--------------------+\n|12/31/1997 16:45|            OKLAHOMA|       171ST|BNSF Railway Company|                null|\n|12/31/1997 15:50|           MINNESOTA| COUNTY ROAD|BNSF Railway Company|                null|\n|12/31/1997 15:00|       PERRY, KANSAS|       FRONT|Union Pacific Rai...|                null|\n|12/31/1997 14:50|LA GRANGE, TENNESSEE| CHESTNUT ST|Norfolk Southern ...|                null|\n|12/31/1997 11:00|        LA RUE, OHIO|     RTE 245|Consolidated Rail...|ML452X NORMAL MOV...|\n|12/31/1997 10:15|          CALIFORNIA| EDINGER AVE|BNSF Railway Company|                null|\n| 12/31/1997 0:30|        OREGON, OHIO|   GREENWOOD|Norfolk Southern ...|                null|\n|12/30/1997 20:03|MORGAN HILL, CALI...|RICHMOND AVE|Amtrak (National ...|TRAIN NO. #14 WIT...|\n|12/30/1997 19:05|    WHITEFACE, TEXAS|     FM 1780|West Texas And Lu...|DRIVER STRUCK A-E...|\n|12/30/1997 16:15|SCOTTVILLE, MICHIGAN|    MAIN ST.|  CSX Transportation|SOUTHBOUND MOTORI...|\n+----------------+--------------------+------------+--------------------+--------------------+\nonly showing top 10 rows\n\n", 
                    "name": "stdout"
                }
            ], 
            "cell_type": "code", 
            "execution_count": 19, 
            "source": "print \"Data:\"\ndataFrame.show(10)"
        }
    ], 
    "nbformat_minor": 0
}