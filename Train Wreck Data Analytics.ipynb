{
    "nbformat": 4, 
    "metadata": {
        "language_info": {
            "pygments_lexer": "ipython2", 
            "file_extension": ".py", 
            "mimetype": "text/x-python", 
            "nbconvert_exporter": "python", 
            "version": "2.7.11", 
            "codemirror_mode": {
                "name": "ipython", 
                "version": 2
            }, 
            "name": "python"
        }, 
        "kernelspec": {
            "name": "python2-spark20", 
            "language": "python", 
            "display_name": "Python 2 with Spark 2.0"
        }
    }, 
    "cells": [
        {
            "outputs": [], 
            "source": "# The code was removed by DSX for sharing.", 
            "execution_count": 16, 
            "cell_type": "code", 
            "metadata": {
                "collapsed": false
            }
        }, 
        {
            "outputs": [
                {
                    "name": "stdout", 
                    "output_type": "stream", 
                    "text": "Record size: 53085\n"
                }
            ], 
            "source": "print \"Record size: \" + str(dataFrame.count())", 
            "execution_count": 17, 
            "cell_type": "code", 
            "metadata": {
                "collapsed": false
            }
        }, 
        {
            "outputs": [
                {
                    "name": "stdout", 
                    "output_type": "stream", 
                    "text": "Data Schema:\nroot\n |-- Date: string (nullable = true)\n |-- City, State: string (nullable = true)\n |-- Street: string (nullable = true)\n |-- Railroad: string (nullable = true)\n |-- Description: string (nullable = true)\n\n"
                }
            ], 
            "source": "print \"Data Schema:\"\ndataFrame.printSchema()", 
            "execution_count": 18, 
            "cell_type": "code", 
            "metadata": {
                "collapsed": false
            }
        }, 
        {
            "outputs": [
                {
                    "name": "stdout", 
                    "output_type": "stream", 
                    "text": "Data:\n+----------------+--------------------+------------+--------------------+--------------------+\n|            Date|         City, State|      Street|            Railroad|         Description|\n+----------------+--------------------+------------+--------------------+--------------------+\n|12/31/1997 16:45|            OKLAHOMA|       171ST|BNSF Railway Company|                null|\n|12/31/1997 15:50|           MINNESOTA| COUNTY ROAD|BNSF Railway Company|                null|\n|12/31/1997 15:00|       PERRY, KANSAS|       FRONT|Union Pacific Rai...|                null|\n|12/31/1997 14:50|LA GRANGE, TENNESSEE| CHESTNUT ST|Norfolk Southern ...|                null|\n|12/31/1997 11:00|        LA RUE, OHIO|     RTE 245|Consolidated Rail...|ML452X NORMAL MOV...|\n|12/31/1997 10:15|          CALIFORNIA| EDINGER AVE|BNSF Railway Company|                null|\n| 12/31/1997 0:30|        OREGON, OHIO|   GREENWOOD|Norfolk Southern ...|                null|\n|12/30/1997 20:03|MORGAN HILL, CALI...|RICHMOND AVE|Amtrak (National ...|TRAIN NO. #14 WIT...|\n|12/30/1997 19:05|    WHITEFACE, TEXAS|     FM 1780|West Texas And Lu...|DRIVER STRUCK A-E...|\n|12/30/1997 16:15|SCOTTVILLE, MICHIGAN|    MAIN ST.|  CSX Transportation|SOUTHBOUND MOTORI...|\n+----------------+--------------------+------------+--------------------+--------------------+\nonly showing top 10 rows\n\n"
                }
            ], 
            "source": "print \"Data:\"\ndataFrame.show(10)", 
            "execution_count": 19, 
            "cell_type": "code", 
            "metadata": {
                "collapsed": false
            }
        }
    ], 
    "nbformat_minor": 0
}